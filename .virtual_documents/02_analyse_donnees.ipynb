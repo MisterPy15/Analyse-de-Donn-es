import pandas as pd
df = pd.read_csv("data.csv")


df.head()


df.tail()


df.head(15)


df.shape


df.columns


df.index


df.set_index('email')


df.set_index('first_name', inplace=True)


df.index



