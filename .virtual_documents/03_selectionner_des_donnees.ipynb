import pandas as pd
df = pd.read_csv('data.csv')


df.head()


df['email']


df['email'].head()


df.email.head()


df.email


type(df)


type(df.email)


df[5:15]


df.loc[5:15]


df_email = df.set_index('email')
df_email.loc['ekilminster2@etsy.com'].values.tolist()


df_email.loc[['ggookes9@amazon.co.uk', 'omaryone@va.gov']]



