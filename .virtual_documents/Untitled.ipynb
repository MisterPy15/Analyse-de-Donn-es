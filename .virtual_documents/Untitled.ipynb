import pandas as pd
df = pd.read_csv('data.csv')
df


df.drop("ip_address", axis=1, inplace=True)


df


df.set_index("gender", inplace = True)


df


df.drop('Male', axis=0 , inplace = True)


df


df.drop('Female', inplace = True)


df



