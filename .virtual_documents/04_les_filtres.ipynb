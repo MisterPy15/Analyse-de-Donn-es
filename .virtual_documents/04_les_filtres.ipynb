import pandas as pd
df = pd.read_csv('data.csv')


df['gender'] == "Male"


df[df['gender'] == "Male"]


filter_female = df['gender'] == 'Female'
df[filter_female]


filter_country = df['country'].isin(["Canada"])
df[filter_country]


 df[df['price_paid'] > 5]


df_test = df.copy()
df_test.price_paid = df_test.price_paid.apply(lambda x: x.replace("$", ""))
df_test.price_paid = df_test.price_paid.astype(float)
df_test[df_test["price_paid"] >= 5.0]



